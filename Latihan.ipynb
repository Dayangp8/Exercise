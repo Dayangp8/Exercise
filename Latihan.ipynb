{
  "nbformat": 4,
  "nbformat_minor": 0,
  "metadata": {
    "colab": {
      "name": "Latihan.ipynb",
      "provenance": [],
      "history_visible": true
    },
    "kernelspec": {
      "name": "python3",
      "display_name": "Python 3"
    }
  },
  "cells": [
    {
      "cell_type": "markdown",
      "metadata": {
        "id": "_NkJ--Yn7jNH"
      },
      "source": [
        "KALKULATOR"
      ]
    },
    {
      "cell_type": "code",
      "metadata": {
        "id": "CblHvVE21AeL",
        "outputId": "e4eff6d0-00b8-4011-8f5d-51f787bfa214",
        "colab": {
          "base_uri": "https://localhost:8080/",
          "height": 153
        }
      },
      "source": [
        "# Ambil input untuk mengisi nilai\n",
        "a = int(input(\"Inputkan nilai a: \"))\n",
        "b = int(input(\"Inputkan nilai b: \"))\n",
        "\n",
        "# Menggunakan operator penjumlahan\n",
        "c = a + b\n",
        "print (\"Hasil %d + %d = %d\" % (a,b,c))\n",
        "\n",
        "# Operator Pengurangan\n",
        "c = a - b\n",
        "print (\"Hasil %d - %d = %d\" % (a,b,c))\n",
        "\n",
        "# Operator Perkalian\n",
        "c = a * b\n",
        "print (\"Hasil %d * %d = %d\" % (a,b,c))\n",
        "\n",
        "# Operator Pembagian\n",
        "c = a / b\n",
        "print (\"Hasil %d / %d = %d\" % (a,b,c))\n",
        "\n",
        "# Operator Sisa Bagi\n",
        "c = a % b\n",
        "print (\"Hasil %d %% %d = %d\" % (a,b,c))\n",
        "\n",
        "# Operator Pangkat\n",
        "c = a ** b\n",
        "print (\"Hasil %d ** %d = %d\" % (a,b,c))"
      ],
      "execution_count": null,
      "outputs": [
        {
          "output_type": "stream",
          "text": [
            "Inputkan nilai a: 8\n",
            "Inputkan nilai b: 7\n",
            "Hasil 8 + 7 = 15\n",
            "Hasil 8 - 7 = 1\n",
            "Hasil 8 * 7 = 56\n",
            "Hasil 8 / 7 = 1\n",
            "Hasil 8 % 7 = 1\n",
            "Hasil 8 ** 7 = 2097152\n"
          ],
          "name": "stdout"
        }
      ]
    },
    {
      "cell_type": "markdown",
      "metadata": {
        "id": "uDZPlNk07fEL"
      },
      "source": [
        "BILANGAN GANJIL GENAP"
      ]
    },
    {
      "cell_type": "code",
      "metadata": {
        "id": "W9GdzwP-7AjN",
        "outputId": "7ae10e57-c7ef-493c-ae77-fa09a4ecab98",
        "colab": {
          "base_uri": "https://localhost:8080/",
          "height": 71
        }
      },
      "source": [
        "genap =[x for x in range (150) if x%2 ==0]\n",
        "ganjil=[x for x in range(100) if x%2 !=0]\n",
        "print(ganjil)\n",
        "print(genap)"
      ],
      "execution_count": null,
      "outputs": [
        {
          "output_type": "stream",
          "text": [
            "[1, 3, 5, 7, 9, 11, 13, 15, 17, 19, 21, 23, 25, 27, 29, 31, 33, 35, 37, 39, 41, 43, 45, 47, 49, 51, 53, 55, 57, 59, 61, 63, 65, 67, 69, 71, 73, 75, 77, 79, 81, 83, 85, 87, 89, 91, 93, 95, 97, 99]\n",
            "[0, 2, 4, 6, 8, 10, 12, 14, 16, 18, 20, 22, 24, 26, 28, 30, 32, 34, 36, 38, 40, 42, 44, 46, 48, 50, 52, 54, 56, 58, 60, 62, 64, 66, 68, 70, 72, 74, 76, 78, 80, 82, 84, 86, 88, 90, 92, 94, 96, 98, 100, 102, 104, 106, 108, 110, 112, 114, 116, 118, 120, 122, 124, 126, 128, 130, 132, 134, 136, 138, 140, 142, 144, 146, 148]\n"
          ],
          "name": "stdout"
        }
      ]
    },
    {
      "cell_type": "markdown",
      "metadata": {
        "id": "PBeUd-LW7pZn"
      },
      "source": [
        "BILANGAN PRIMA"
      ]
    },
    {
      "cell_type": "code",
      "metadata": {
        "id": "YF4U0OXw7mqd",
        "outputId": "3b339490-94ae-443b-bd04-1d208f9d34d6",
        "colab": {
          "base_uri": "https://localhost:8080/",
          "height": 214
        }
      },
      "source": [
        "batas = int(input(\"Masukkan batasan bilangan prima : \"))\n",
        "lis=[]\n",
        "for nom in range (2,batas+1):\n",
        "  if nom > 1:\n",
        "    for i in range(2, nom):\n",
        "      if (nom%i)== 0:\n",
        "        break\n",
        "    else:\n",
        "      lis.append(nom)\n",
        "print(\",\".join(lis))"
      ],
      "execution_count": null,
      "outputs": [
        {
          "output_type": "stream",
          "text": [
            "Masukkan batasan bilangan prima : 9\n"
          ],
          "name": "stdout"
        },
        {
          "output_type": "error",
          "ename": "TypeError",
          "evalue": "ignored",
          "traceback": [
            "\u001b[0;31m---------------------------------------------------------------------------\u001b[0m",
            "\u001b[0;31mTypeError\u001b[0m                                 Traceback (most recent call last)",
            "\u001b[0;32m<ipython-input-37-9e1017bdb5b0>\u001b[0m in \u001b[0;36m<module>\u001b[0;34m()\u001b[0m\n\u001b[1;32m      8\u001b[0m     \u001b[0;32melse\u001b[0m\u001b[0;34m:\u001b[0m\u001b[0;34m\u001b[0m\u001b[0;34m\u001b[0m\u001b[0m\n\u001b[1;32m      9\u001b[0m       \u001b[0mlis\u001b[0m\u001b[0;34m.\u001b[0m\u001b[0mappend\u001b[0m\u001b[0;34m(\u001b[0m\u001b[0mnom\u001b[0m\u001b[0;34m)\u001b[0m\u001b[0;34m\u001b[0m\u001b[0;34m\u001b[0m\u001b[0m\n\u001b[0;32m---> 10\u001b[0;31m \u001b[0mprint\u001b[0m\u001b[0;34m(\u001b[0m\u001b[0;34m\",\"\u001b[0m\u001b[0;34m.\u001b[0m\u001b[0mjoin\u001b[0m\u001b[0;34m(\u001b[0m\u001b[0mlis\u001b[0m\u001b[0;34m)\u001b[0m\u001b[0;34m)\u001b[0m\u001b[0;34m\u001b[0m\u001b[0;34m\u001b[0m\u001b[0m\n\u001b[0m",
            "\u001b[0;31mTypeError\u001b[0m: sequence item 0: expected str instance, int found"
          ]
        }
      ]
    },
    {
      "cell_type": "markdown",
      "metadata": {
        "id": "wKjZ3z8LReig"
      },
      "source": [
        "OPERATOR BITWISE"
      ]
    },
    {
      "cell_type": "code",
      "metadata": {
        "id": "kndHARX6Rh-4",
        "outputId": "41efff49-427f-458f-e3fd-2b3a2db8299d",
        "colab": {
          "base_uri": "https://localhost:8080/",
          "height": 248
        }
      },
      "source": [
        "a= 72\n",
        "b= 56\n",
        "c=bin(a)\n",
        "d=bin(b)\n",
        "print(c, d)\n",
        "print(c & d)\n",
        "print (c | d)\n",
        "print(c^d)"
      ],
      "execution_count": null,
      "outputs": [
        {
          "output_type": "stream",
          "text": [
            "0b1001000 0b111000\n"
          ],
          "name": "stdout"
        },
        {
          "output_type": "error",
          "ename": "TypeError",
          "evalue": "ignored",
          "traceback": [
            "\u001b[0;31m---------------------------------------------------------------------------\u001b[0m",
            "\u001b[0;31mTypeError\u001b[0m                                 Traceback (most recent call last)",
            "\u001b[0;32m<ipython-input-13-4cdce837af8c>\u001b[0m in \u001b[0;36m<module>\u001b[0;34m()\u001b[0m\n\u001b[1;32m      4\u001b[0m \u001b[0md\u001b[0m\u001b[0;34m=\u001b[0m\u001b[0mbin\u001b[0m\u001b[0;34m(\u001b[0m\u001b[0mb\u001b[0m\u001b[0;34m)\u001b[0m\u001b[0;34m\u001b[0m\u001b[0;34m\u001b[0m\u001b[0m\n\u001b[1;32m      5\u001b[0m \u001b[0mprint\u001b[0m\u001b[0;34m(\u001b[0m\u001b[0mc\u001b[0m\u001b[0;34m,\u001b[0m \u001b[0md\u001b[0m\u001b[0;34m)\u001b[0m\u001b[0;34m\u001b[0m\u001b[0;34m\u001b[0m\u001b[0m\n\u001b[0;32m----> 6\u001b[0;31m \u001b[0mprint\u001b[0m\u001b[0;34m(\u001b[0m\u001b[0mc\u001b[0m \u001b[0;34m&\u001b[0m \u001b[0md\u001b[0m\u001b[0;34m)\u001b[0m\u001b[0;34m\u001b[0m\u001b[0;34m\u001b[0m\u001b[0m\n\u001b[0m\u001b[1;32m      7\u001b[0m \u001b[0mprint\u001b[0m \u001b[0;34m(\u001b[0m\u001b[0mc\u001b[0m \u001b[0;34m|\u001b[0m \u001b[0md\u001b[0m\u001b[0;34m)\u001b[0m\u001b[0;34m\u001b[0m\u001b[0;34m\u001b[0m\u001b[0m\n\u001b[1;32m      8\u001b[0m \u001b[0mprint\u001b[0m\u001b[0;34m(\u001b[0m\u001b[0mc\u001b[0m\u001b[0;34m^\u001b[0m\u001b[0md\u001b[0m\u001b[0;34m)\u001b[0m\u001b[0;34m\u001b[0m\u001b[0;34m\u001b[0m\u001b[0m\n",
            "\u001b[0;31mTypeError\u001b[0m: unsupported operand type(s) for &: 'str' and 'str'"
          ]
        }
      ]
    }
  ]
}